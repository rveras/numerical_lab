{
 "cells": [
  {
   "cell_type": "markdown",
   "metadata": {},
   "source": [
    "## Getting Started\n",
    "\n",
    "Questions:\n",
    "1. What is a program?\n",
    "- What is programming?\n",
    "- What can you do with programming?\n",
    "- What kind of problems can be solved with programming?\n",
    "- What is a programming language?\n",
    "- What is code?\n",
    "- What is Python?\n",
    "- How do we program in Python?\n",
    "\n"
   ]
  },
  {
   "cell_type": "markdown",
   "metadata": {},
   "source": [
    "## Running Python Code\n",
    "\n",
    "In order to get started with Python we need two things, an *editor* to write the code and an *interpreter* to run the code. There are tools called *Integrated Developer Environments* (IDE) that combine those two functions, which is what we will use.\n",
    "\n",
    "Here are three options for *IDEs* that we can use.\n",
    "1. Online - https://repl.it/languages/python3\n",
    "- Locally installed on computer: https://www.anaconda.com/distribution/\n",
    "- Installed on phone:\n",
    "- - Android: https://play.google.com/store/apps/details?id=org.qpython.qpy&hl=en_US\n",
    "- - Apple: https://www.iphoneness.com/ipad-apps/python-ide-apps/\n"
   ]
  },
  {
   "cell_type": "markdown",
   "metadata": {},
   "source": [
    "## Printing Out to the Screen\n",
    "\n",
    "Almost every program we will ever write will give the user some meaningful output, which makes it a great starting point. Output can take many forms, we can write things to the screen, to a file, over the network, etc. The easiest, and one of the most used types of outputs is to print text to the screen. In Python we do this with the *print()* function. \n",
    " \n"
   ]
  },
  {
   "cell_type": "code",
   "execution_count": null,
   "metadata": {},
   "outputs": [],
   "source": [
    "#################\n",
    "# START EXAMPLE #\n",
    "#################\n",
    "\n",
    "print(\"Here is some text to output\")\n",
    "\n",
    "#################\n",
    "#  END EXAMPLE  #\n",
    "#################"
   ]
  },
  {
   "cell_type": "code",
   "execution_count": null,
   "metadata": {},
   "outputs": [],
   "source": [
    "##################\n",
    "# START QUESTION #\n",
    "##################\n",
    "\n",
    "\n",
    "# Write a program that prints ‘Hello World’ to the screen.\n",
    "\n",
    "\n",
    "##################\n",
    "#  END QUESTION  #\n",
    "##################"
   ]
  },
  {
   "cell_type": "markdown",
   "metadata": {},
   "source": [
    "## Getting Input from the User\n",
    "\n",
    "Just as output is important, so is receiving input from the user. In Python we can get the users input with the *input()* function"
   ]
  },
  {
   "cell_type": "code",
   "execution_count": null,
   "metadata": {},
   "outputs": [],
   "source": [
    "#################\n",
    "# START EXAMPLE #\n",
    "#################\n",
    "\n",
    "a = input()\n",
    "print(a)\n",
    "\n",
    "#################\n",
    "#  END EXAMPLE  #\n",
    "#################"
   ]
  },
  {
   "cell_type": "code",
   "execution_count": null,
   "metadata": {},
   "outputs": [],
   "source": [
    "##################\n",
    "# START QUESTION #\n",
    "##################\n",
    "\n",
    "\n",
    "# Write a program that asks the user for their name and greets them with their name.\n",
    "\n",
    "\n",
    "##################\n",
    "#  END QUESTION  #\n",
    "##################"
   ]
  },
  {
   "cell_type": "markdown",
   "metadata": {},
   "source": [
    "## Making Decisions with If statements\n",
    "\n",
    "An important concept in programming is the ability to make decisions inside the code using *if*, *if/else*, and *if/elif/else* statements.\n",
    "\n",
    "\n",
    "An important thing to note is that Python is picky about spacing."
   ]
  },
  {
   "cell_type": "code",
   "execution_count": null,
   "metadata": {},
   "outputs": [],
   "source": [
    "#################\n",
    "# START EXAMPLE #\n",
    "#################\n",
    "\n",
    "a = input()\n",
    "if a == \"Hello\":\n",
    "    print(\"Hi There!\")\n",
    "    \n",
    "print(\"How are you doing?\")\n",
    "\n",
    "    \n",
    "#################\n",
    "#  END EXAMPLE  #\n",
    "#################"
   ]
  },
  {
   "cell_type": "code",
   "execution_count": null,
   "metadata": {},
   "outputs": [],
   "source": [
    "#################\n",
    "# START EXAMPLE #\n",
    "#################\n",
    "\n",
    "a = int(input()) # <<-- int() lets us grab a number from the user\n",
    "\n",
    "if a > 0:\n",
    "    print(\"a is greater than 0.\")\n",
    "else:\n",
    "    print(\"a is NOT greater than 0.\")\n",
    "    \n",
    "#################\n",
    "#  END EXAMPLE  #\n",
    "#################    "
   ]
  },
  {
   "cell_type": "code",
   "execution_count": null,
   "metadata": {},
   "outputs": [],
   "source": [
    "#################\n",
    "# START EXAMPLE #\n",
    "#################\n",
    "\n",
    "a = int(input())\n",
    "\n",
    "if a > 0:\n",
    "    print(\"a is greater than 0!\")\n",
    "elif a < 0:\n",
    "    print(\"a is less than 0!\")\n",
    "else:\n",
    "    print(\"a is NOT greater than 0!\")\n",
    "    print(\"a is also NOT less than 0.\")\n",
    "    print(\"so a must be equal to 0!\")\n",
    "    \n",
    "#################\n",
    "#  END EXAMPLE  #\n",
    "#################"
   ]
  },
  {
   "cell_type": "code",
   "execution_count": null,
   "metadata": {},
   "outputs": [],
   "source": [
    "##################\n",
    "# START QUESTION #\n",
    "##################\n",
    "\n",
    "\n",
    "# Write a program where only the users Alice and Bob are greeted with their names.\n",
    "\n",
    "\n",
    "##################\n",
    "#  END QUESTION  #\n",
    "##################"
   ]
  },
  {
   "cell_type": "markdown",
   "metadata": {},
   "source": [
    "### Practice Problems\n",
    "\n",
    "Practice and confidence are the two most important factors for becoming an adept programmer. To that end we will be using an Online Judge to submit solutions to competition problems:\n",
    "\n",
    "The online judge is located at https://www.urionlinejudge.com.br/judge/en/login?redirect=%2Fen\n",
    "\n",
    "1. In order to use it the we need to create an account.\n",
    "\n",
    "- Log in and go to the \"Problems\" tab at the top right\n",
    "\n",
    "- Select a problem category. for example \"Beginner\"\n",
    "\n",
    "- In the problem category select a problem. like \"extremely basic\"\n",
    "\n",
    "- To submit  a solution,  go to the left side of the page and click submit\n",
    "\n",
    "- This will take you to the submission page for the problem.\n",
    "\n",
    "- For language select \"Python 3\"\n",
    "\n",
    "- Write your solution in the box labelled \"source code\"\n",
    "\n",
    "- Hit Send\n",
    "\n",
    "- To check the status of your submission click the \"Submissions\" tab at the top right and you should see the results of your code.\n",
    "\n",
    "Suggested Problems:\n",
    "\n",
    "1. https://www.urionlinejudge.com.br/judge/en/problems/view/1001\n",
    "- https://www.urionlinejudge.com.br/judge/en/problems/view/1002\n",
    "- https://www.urionlinejudge.com.br/judge/en/problems/view/1003\n",
    "- https://www.urionlinejudge.com.br/judge/en/problems/view/1005\n",
    "- https://www.urionlinejudge.com.br/judge/en/problems/view/1011\n",
    "- https://www.urionlinejudge.com.br/judge/en/problems/view/1012 (hint: look up string split function)\n"
   ]
  },
  {
   "cell_type": "markdown",
   "metadata": {},
   "source": [
    "## Repeating Code with Loops\n",
    "\n",
    "*if* statements are powerful, but they only let code flow in one direction, top to bottom. However, sometimes we want to be able to repeat the same code multiple times.\n"
   ]
  },
  {
   "cell_type": "code",
   "execution_count": null,
   "metadata": {},
   "outputs": [],
   "source": [
    "#################\n",
    "# START EXAMPLE #\n",
    "#################\n",
    "\n",
    "counter = 0\n",
    "\n",
    "while counter < 10:\n",
    "    print(counter)\n",
    "    counter = counter + 1\n",
    "\n",
    "\n",
    "\n",
    "#################\n",
    "#  END EXAMPLE  #\n",
    "#################"
   ]
  },
  {
   "cell_type": "code",
   "execution_count": 1,
   "metadata": {},
   "outputs": [
    {
     "name": "stdout",
     "output_type": "stream",
     "text": [
      "The counter is 0 out of 10\n",
      "The counter is 1 out of 10\n",
      "The counter is 2 out of 10\n",
      "The counter is 3 out of 10\n",
      "The counter is 4 out of 10\n",
      "The counter is 5 out of 10\n",
      "The counter is 6 out of 10\n",
      "The counter is 7 out of 10\n",
      "The counter is 8 out of 10\n",
      "The counter is 9 out of 10\n"
     ]
    }
   ],
   "source": [
    "#################\n",
    "# START EXAMPLE #\n",
    "#################\n",
    "\n",
    "# Slight modification with our print statement\n",
    "\n",
    "counter = 0\n",
    "stop = 10\n",
    "\n",
    "while counter < stop:\n",
    "    print(\"The counter is \" + str(counter) + \" out of \" + str(stop) )\n",
    "    counter = counter + 1\n",
    "\n",
    "\n",
    "#################\n",
    "#  END EXAMPLE  #\n",
    "#################"
   ]
  },
  {
   "cell_type": "code",
   "execution_count": null,
   "metadata": {},
   "outputs": [],
   "source": [
    "##################\n",
    "# START QUESTION #\n",
    "##################\n",
    "\n",
    "\n",
    "# Write a program that asks the user for a number n and prints the sum of the numbers 1 to n\n",
    "\n",
    "\n",
    "##################\n",
    "#  END QUESTION  #\n",
    "##################"
   ]
  },
  {
   "cell_type": "code",
   "execution_count": null,
   "metadata": {},
   "outputs": [],
   "source": [
    "##################\n",
    "# START QUESTION #\n",
    "##################\n",
    "\n",
    "# Modify the previous program such that only multiples of three or five are considered in the\n",
    "# sum, e.g. 3, 5, 6, 9, 10, 12, 15 for n=17\n",
    "\n",
    "##################\n",
    "#  END QUESTION  #\n",
    "##################"
   ]
  },
  {
   "cell_type": "code",
   "execution_count": null,
   "metadata": {},
   "outputs": [],
   "source": [
    "##################\n",
    "# START QUESTION #\n",
    "##################\n",
    "\n",
    "# Write a program that asks the user for a number n and gives them the possibility \n",
    "# to choose between computing the sum and computing the product of 1,…,n.\n",
    "\n",
    "\n",
    "##################\n",
    "#  END QUESTION  #\n",
    "##################"
   ]
  },
  {
   "cell_type": "code",
   "execution_count": null,
   "metadata": {},
   "outputs": [],
   "source": [
    "##################\n",
    "# START QUESTION #\n",
    "##################\n",
    "\n",
    "\n",
    "# Write a program that computes the sum of an alternating series where each \n",
    "# element of the series is an expression of the form $((-1)^{k+1})/(2 * k-1)$ \n",
    "# for each value of k from 1 to a million, multiplied by 4.\n",
    "\n",
    "\n",
    "##################\n",
    "#  END QUESTION  #\n",
    "##################"
   ]
  },
  {
   "cell_type": "code",
   "execution_count": null,
   "metadata": {},
   "outputs": [],
   "source": [
    "##################\n",
    "# START QUESTION #\n",
    "##################\n",
    "\n",
    "\n",
    "# Write a guessing game where the user has to guess a secret number. After every guess the program \n",
    "# tells the user whether their number was too large or too small. At the end the number of tries \n",
    "# needed should be printed. \n",
    "\n",
    "\n",
    "##################\n",
    "#  END QUESTION  #\n",
    "##################"
   ]
  },
  {
   "cell_type": "markdown",
   "metadata": {},
   "source": [
    "## Nesting Loops\n",
    "\n",
    "We can nest loops inside of each other, but we have to pay special attention to the spacing of our statements."
   ]
  },
  {
   "cell_type": "code",
   "execution_count": null,
   "metadata": {},
   "outputs": [],
   "source": [
    "#################\n",
    "# START EXAMPLE #\n",
    "#################\n",
    "\n",
    "\n",
    "outside = 0\n",
    "\n",
    "while outside < 8:\n",
    "    \n",
    "    # start of inner loop\n",
    "    inside = 0\n",
    "    while inside < 12:\n",
    "        print( \"(\"+str(outside)+\",\"+str(inside)+\")\", end = \", \")\n",
    "        inside = inside + 1\n",
    "    \n",
    "    # end of inner loop\n",
    "    print(\"\")\n",
    "    outside = outside + 1\n",
    "\n",
    "\n",
    "    \n",
    "#################\n",
    "#  END EXAMPLE  #\n",
    "#################"
   ]
  },
  {
   "cell_type": "code",
   "execution_count": null,
   "metadata": {},
   "outputs": [],
   "source": [
    "##################\n",
    "# START QUESTION #\n",
    "##################\n",
    "\n",
    "# Write a program that prints a multiplication table for numbers up to 12.\n",
    "\n",
    "\n",
    "##################\n",
    "#  END QUESTION  #\n",
    "##################"
   ]
  },
  {
   "cell_type": "code",
   "execution_count": null,
   "metadata": {},
   "outputs": [],
   "source": [
    "##################\n",
    "# START QUESTION #\n",
    "##################\n",
    "\n",
    "#  Write a program that prints all prime numbers up 1000\n",
    "\n",
    "##################\n",
    "#  END QUESTION  #\n",
    "##################"
   ]
  },
  {
   "cell_type": "markdown",
   "metadata": {},
   "source": [
    "### Practice Problems\n",
    "\n",
    "1. https://www.urionlinejudge.com.br/judge/en/problems/view/1238\n",
    "- https://www.urionlinejudge.com.br/judge/en/problems/view/1329\n",
    "- https://www.urionlinejudge.com.br/judge/en/problems/view/1249\n",
    "- https://www.urionlinejudge.com.br/judge/en/problems/view/1255\n",
    "- https://www.urionlinejudge.com.br/judge/en/problems/view/1145\n",
    "\n",
    "The URI online judge provides a recommendation engine that finds problems that it believes you can solve.\n",
    "\n",
    "https://www.urionlinejudge.com.br/judge/en/recommendations/index/1\n",
    "\n",
    "Select four problems of your choice from the recommended set."
   ]
  },
  {
   "cell_type": "markdown",
   "metadata": {},
   "source": [
    "## References\n",
    "\n",
    "For reference, check out the official Python tutorial\n",
    "https://docs.python.org/3/tutorial/\n",
    "\n",
    "The problems in this set were adapted from: https://adriann.github.io/programming_problems.html"
   ]
  },
  {
   "cell_type": "markdown",
   "metadata": {},
   "source": [
    "## License\n",
    "\n",
    "\n",
    "CC BY-SA"
   ]
  }
 ],
 "metadata": {
  "kernelspec": {
   "display_name": "Python 3",
   "language": "python",
   "name": "python3"
  },
  "language_info": {
   "codemirror_mode": {
    "name": "ipython",
    "version": 3
   },
   "file_extension": ".py",
   "mimetype": "text/x-python",
   "name": "python",
   "nbconvert_exporter": "python",
   "pygments_lexer": "ipython3",
   "version": "3.7.3"
  }
 },
 "nbformat": 4,
 "nbformat_minor": 2
}
