{
 "cells": [
  {
   "cell_type": "markdown",
   "metadata": {},
   "source": [
    "# Getting Started with Python\n",
    "We are going to build a working understanding of the python programming language by mapping core programming concepts to mathematical concepts that you will be familiar with. For this lab this will include:\n",
    "\n",
    "\n",
    "1. variables\n",
    "- output and input\n",
    "- expressions\n",
    "- conditionals\n",
    "- functions\n",
    "\n",
    "\n",
    "Instructions: There are hands on activities throughout this lab. Enter you answers and solutions into this notebook and print out a PDF of your finished lab.\n",
    "\n",
    "\n",
    "## Working with variables\n",
    "Let's start by creating a *variable* $x$ and assigning to it a value of $5$:"
   ]
  },
  {
   "cell_type": "code",
   "execution_count": null,
   "metadata": {},
   "outputs": [],
   "source": [
    "x = 5"
   ]
  },
  {
   "cell_type": "markdown",
   "metadata": {},
   "source": [
    "On the left-hand-side of the *assignment* we have the variable name and on the right hand side we have a value.\n",
    "\n",
    "We can print out that value with a Python function called *print*"
   ]
  },
  {
   "cell_type": "code",
   "execution_count": null,
   "metadata": {},
   "outputs": [],
   "source": [
    "print(x)"
   ]
  },
  {
   "cell_type": "markdown",
   "metadata": {},
   "source": [
    "Because $x$ is a variable we can modify its value. For example we can change it to $x=7$:"
   ]
  },
  {
   "cell_type": "code",
   "execution_count": null,
   "metadata": {},
   "outputs": [],
   "source": [
    "x=7\n",
    "print(x)"
   ]
  },
  {
   "cell_type": "markdown",
   "metadata": {},
   "source": [
    "We can assign numbers with decimals like $x=3.14$ to a variable."
   ]
  },
  {
   "cell_type": "code",
   "execution_count": null,
   "metadata": {},
   "outputs": [],
   "source": [
    "x = 3.14"
   ]
  },
  {
   "cell_type": "markdown",
   "metadata": {},
   "source": [
    "We can even assign text, or *Strings*, to a variable, such as $x=\"hello\\ world\"$"
   ]
  },
  {
   "cell_type": "code",
   "execution_count": null,
   "metadata": {},
   "outputs": [],
   "source": [
    "x = \"hello world\""
   ]
  },
  {
   "cell_type": "markdown",
   "metadata": {},
   "source": [
    "We can assign variables the values of other variables.\n",
    "\n",
    "$y = 3$\n",
    "\n",
    "$z = y$"
   ]
  },
  {
   "cell_type": "code",
   "execution_count": null,
   "metadata": {},
   "outputs": [],
   "source": [
    "y = 3\n",
    "z = y\n",
    "print(z)"
   ]
  },
  {
   "cell_type": "markdown",
   "metadata": {},
   "source": [
    "If we want we can even take the user's input and store it in a variable using the *input* function, which will prompt the user for a value followed by the *enter* key."
   ]
  },
  {
   "cell_type": "code",
   "execution_count": null,
   "metadata": {},
   "outputs": [],
   "source": [
    "x = input()\n",
    "print(x)"
   ]
  },
  {
   "cell_type": "markdown",
   "metadata": {},
   "source": [
    "### Hands On Activity\n",
    "\n",
    "\n",
    "Finish the following code snippet where we want to swap the contents of $x$ and $y$:"
   ]
  },
  {
   "cell_type": "code",
   "execution_count": null,
   "metadata": {},
   "outputs": [],
   "source": [
    "####################\n",
    "## Begin Activity ##\n",
    "####################\n",
    "\n",
    "# Assign x and y from user input\n",
    "print(\"Enter x:\")\n",
    "x = input()\n",
    "print(\"Enter y:\")\n",
    "y = input()\n",
    "\n",
    "# print the initial contents of x and y\n",
    "print(\"Initial: \" + \"x=\"+str(x)+\";y=\"+str(y) )\n",
    "\n",
    "########################\n",
    "## Start Missing Code ##\n",
    "########################\n",
    "\n",
    "# TODO: fill this in\n",
    "\n",
    "########################\n",
    "### End Missing Code ###\n",
    "########################\n",
    "\n",
    "\n",
    "# print the final contents of x and y\n",
    "print(\"Final:   \" + \"x=\"+str(x)+\";y=\"+str(y) )\n",
    "\n",
    "####################\n",
    "### End Activity ###\n",
    "####################"
   ]
  },
  {
   "cell_type": "markdown",
   "metadata": {},
   "source": [
    "### Integers\n",
    "\n",
    "Variables in Python, and other programming languages, have a type of value that they contain. An important type is the *Integers*, which are 32 bits wide and cover the integers between $-2^{31}$ to $2^{31}-1$. These numbers are encoded using the following formula:\n",
    "\n",
    "$z = -b_{N-1}2^{N-1} + \\sum^{N-2}_{i=0} b_i2^i$\n",
    "\n",
    "Where $b$ is our bit string and $N$ is the number of bits, 32 in our case.\n",
    "\n",
    "We can declare an *Integer* as follows:"
   ]
  },
  {
   "cell_type": "code",
   "execution_count": null,
   "metadata": {},
   "outputs": [],
   "source": [
    "x = 251\n",
    "print(x)"
   ]
  },
  {
   "cell_type": "markdown",
   "metadata": {},
   "source": [
    "We are not restricted to only expressing integers in decimal (base 10), we can also use binary (base-2), octal (base-8) and hexadecimal (base-16)"
   ]
  },
  {
   "cell_type": "code",
   "execution_count": null,
   "metadata": {},
   "outputs": [],
   "source": [
    "x_in_dec = 3735928559\n",
    "x_in_bin = 0b11011110101011011011111011101111 # expressed in base 2 (binary)\n",
    "x_in_oct = 0o33653337357                      # expressed in base 8 (octal)\n",
    "x_in_hex = 0xDEADBEEF                         # expressed in base 16 (hexadecimal)\n",
    "print(x_in_dec)\n",
    "print(x_in_bin)\n",
    "print(x_in_oct)\n",
    "print(x_in_hex)"
   ]
  },
  {
   "cell_type": "markdown",
   "metadata": {},
   "source": [
    "If we want to read an *Integer* from the user's input using *input()* then we need to *cast* to an *Integer*. This is because *Input()* actually reads a string of text, and we need to tell python to convert that to an *Integer*."
   ]
  },
  {
   "cell_type": "code",
   "execution_count": null,
   "metadata": {},
   "outputs": [],
   "source": [
    "x_is_a_string = \"1234\" # anything between quotes (\"\") is a string\n",
    "x_is_an_int   = int(x_is_a_string) # the int() function converts the string to an integer"
   ]
  },
  {
   "cell_type": "markdown",
   "metadata": {},
   "source": [
    "We can elaborate on the previous code and test whether or not the variables are indeed the type that we expect them to be."
   ]
  },
  {
   "cell_type": "code",
   "execution_count": null,
   "metadata": {},
   "outputs": [],
   "source": [
    "x_is_a_string = input()\n",
    "\n",
    "# Let's test what the input is using isintance()\n",
    "print( \"x_is_a_string is a string?   \" + str(isinstance(x_is_a_string, str)))\n",
    "print( \"x_is_a_string is an Integer? \" + str(isinstance(x_is_a_string, int)))\n",
    "\n",
    "# casting our input using int()\n",
    "x_is_an_int = int(x_is_a_string)\n",
    "\n",
    "# Let's test the casted value using isintance()\n",
    "print( \"x_is_an_int is a string?     \" + str(isinstance(x_is_an_int, str)))\n",
    "print( \"x_is_an_int is an Integer?   \" + str(isinstance(x_is_an_int, int)))"
   ]
  },
  {
   "cell_type": "markdown",
   "metadata": {},
   "source": [
    "For completeness we can go the other direction and *cast* an *Integer* into a *String* using the *str()* function. In fact we have used this in many of our code snippets."
   ]
  },
  {
   "cell_type": "code",
   "execution_count": null,
   "metadata": {},
   "outputs": [],
   "source": [
    "x_is_an_int = 10\n",
    "x_is_a_string = str(x_is_an_int)"
   ]
  },
  {
   "cell_type": "markdown",
   "metadata": {},
   "source": [
    "### Hands on Activity\n",
    "\n",
    "We want the following code to take two integers from the user, add the two values and return the results. However, this code does not behave as expected.\n",
    "\n",
    "1. What is wrong with the code?\n",
    "- How do we fix it?\n"
   ]
  },
  {
   "cell_type": "code",
   "execution_count": null,
   "metadata": {},
   "outputs": [],
   "source": [
    "####################\n",
    "## Begin Activity ##\n",
    "####################\n",
    "\n",
    "a = input() # Read first input\n",
    "b = input() # Read second input\n",
    "x = a+b     # Add the two values\n",
    "print(x)    # Print the result\n",
    "\n",
    "##################\n",
    "## End Activity ##\n",
    "##################"
   ]
  },
  {
   "cell_type": "markdown",
   "metadata": {},
   "source": [
    "### Floating Point Numbers\n",
    "\n",
    "A big limitation of the *integers* is that they cannot directly represent fractional values (numbers with digits after the decimal place). What we would like are numbers that let us define fractional values. Enter *floating point*, which is a representation that allows for fractional values. We can use them in the following way:\n"
   ]
  },
  {
   "cell_type": "code",
   "execution_count": null,
   "metadata": {
    "scrolled": true
   },
   "outputs": [],
   "source": [
    "a0 = 123.45\n",
    "a1 = 1.2345e2\n",
    "\n",
    "print(a0)\n",
    "print(a1)"
   ]
  },
  {
   "cell_type": "markdown",
   "metadata": {},
   "source": [
    "As was the case with the *integers* we can *cast* a *string* into a *floating point* value."
   ]
  },
  {
   "cell_type": "code",
   "execution_count": null,
   "metadata": {},
   "outputs": [],
   "source": [
    "a0_is_a_string = \"123.45\"\n",
    "a0_is_a_float = float(a0_is_a_string)\n",
    "print(a0_is_a_float)\n",
    "\n",
    "a1_is_a_string = \"1.2345e2\"\n",
    "a1_is_a_float = float(a1_is_a_string)\n",
    "print(a1_is_a_float)"
   ]
  },
  {
   "cell_type": "markdown",
   "metadata": {},
   "source": [
    "This is particularly useful when receiving user input:"
   ]
  },
  {
   "cell_type": "code",
   "execution_count": null,
   "metadata": {},
   "outputs": [],
   "source": [
    "a0_is_a_string = input()\n",
    "a0_is_a_float  = float(a0_is_a_string)\n",
    "print(a0_is_a_float)"
   ]
  },
  {
   "cell_type": "markdown",
   "metadata": {},
   "source": [
    "Now that we have introduced *floating point* numbers let us delve a little deeper. *Floating point* represents values in a way that separates precision (the fraction) from dynamic range (how many orders of magnitude can we capture). This is achieved by representing the number as a mantissa (the precision) and an exponent (the dynamic range).\n",
    "\n",
    "This essentially looks like:\n",
    "\n",
    "$f = m \\times 2^e$\n",
    "\n",
    "where $f$ is our floating point number, $m$ is our mantissa, which we can illustrate in the following example:"
   ]
  },
  {
   "cell_type": "code",
   "execution_count": null,
   "metadata": {},
   "outputs": [],
   "source": [
    "mantissa = 1.2345\n",
    "exponent = 2\n",
    "\n",
    "pseudo_float = mantissa * pow(10,exponent)\n",
    "\n",
    "print(pseudo_float)"
   ]
  },
  {
   "cell_type": "markdown",
   "metadata": {},
   "source": [
    "Well that's weird.  This has to do with the fact that we are playing around with decimal (base-10) numbers when in fact *floating point* numbers are binary (base-2) so $1.2345$ is being rounded to the nearest fractional binary number.\n",
    "\n",
    "For the curious, the IEEE 754 standard represents a double precision floating point number using 64 bits (8 bytes) with the following formula: \n",
    "\n",
    "$(-1)^{sign}(1+\\sum^{52}_{i=1}b_{52-i}2^{-i}) \\times 2^{e-1023}$\n",
    "\n",
    "\n",
    "A single bit is used for the sign, 52 bits are used for the mantissa and 11 bits are used as the exponent."
   ]
  },
  {
   "cell_type": "markdown",
   "metadata": {},
   "source": [
    "If we look up $123.45$ on this handy IEEE 754 converter\n",
    "\n",
    "https://www.h-schmidt.net/FloatConverter/IEEE754.html\n",
    "\n",
    "We will get a 32 bit (single precision) representation that has the exponent $e = 0b10000101$ and a mantissa $m=0b11101101110011001100110$ and we will use the previous formula using $e-127$ instead of $e-1023$ because we are using a 32 bit representation instead of a 64 bit."
   ]
  },
  {
   "cell_type": "code",
   "execution_count": null,
   "metadata": {},
   "outputs": [],
   "source": [
    "# let our exponent e=0b10000101=133, and our mantissa has  0b1110 1101 1100 1100 1100 110\n",
    "\n",
    "exponent = pow(2,133-127)\n",
    "mantissa = (1 + \n",
    "            1*pow(2,-1)+ \n",
    "            1*pow(2,-2)+\n",
    "            1*pow(2,-3)+\n",
    "            0*pow(2,-4)+ \n",
    "            \n",
    "            1*pow(2,-5)+\n",
    "            1*pow(2,-6)+\n",
    "            0*pow(2,-7)+ \n",
    "            1*pow(2,-8)+\n",
    "            \n",
    "            1*pow(2,-9)+\n",
    "            1*pow(2,-10)+\n",
    "            0*pow(2,-11)+ \n",
    "            0*pow(2,-12)+            \n",
    "\n",
    "            1*pow(2,-13)+\n",
    "            1*pow(2,-14)+\n",
    "            0*pow(2,-15)+ \n",
    "            0*pow(2,-16)+\n",
    "            \n",
    "            1*pow(2,-17)+\n",
    "            1*pow(2,-18)+\n",
    "            0*pow(2,-19)+ \n",
    "            0*pow(2,-20)+\n",
    "            \n",
    "            1*pow(2,-21)+\n",
    "            1*pow(2,-22))\n",
    "\n",
    "f = exponent * mantissa\n",
    "print(f)"
   ]
  },
  {
   "cell_type": "markdown",
   "metadata": {},
   "source": [
    "### Hands On Activity\n",
    "\n",
    "While *floating point* is a powerful representation there are some limitations of what numbers can be captured for this first activity:\n",
    "1. find the the smallest mantissa of the form $1+2^{-i}$ that is greater than $1$.\n",
    "- What is that value $i$?\n",
    "- Why is that the smallest mantissa?\n",
    "- What happens at $i+1$, i.e. $1+2^{-(i+1)}$\n",
    "- Does changing the exponent $e$ affect this?\n",
    "- Why or why not?"
   ]
  },
  {
   "cell_type": "code",
   "execution_count": null,
   "metadata": {},
   "outputs": [],
   "source": [
    "####################\n",
    "## Begin Activity ##\n",
    "####################\n",
    "\n",
    "print(\"Input a value i:\")\n",
    "i = int(input())\n",
    "\n",
    "e = 0\n",
    "#print(\"Input a value e:\")\n",
    "#e = int(input())\n",
    "\n",
    "\n",
    "exponent = pow(2,e)\n",
    "mantissa = 1 + pow(2,-1*i)\n",
    "fnum = exponent * mantissa\n",
    "\n",
    "print(\"fnum = 2^{\"+ str(e)+ \"} x (1 + 2^{-\"+str(i)+\"})\")\n",
    "print(\"fnum = \" + str(fnum))\n",
    "\n",
    "##################\n",
    "## End Activity ##\n",
    "##################"
   ]
  },
  {
   "cell_type": "markdown",
   "metadata": {},
   "source": [
    "### Hands On Activity\n",
    "\n",
    "We have explored the mantissa of a *floating point* number, now let us look at the exponent.\n",
    "1. find the smallest exponent $e$ such that $f>0$\n",
    "- what did you expect that number to be and why?\n",
    "- read the following to see why the number you found was not what you expected: https://stackoverflow.com/questions/59283047/why-does-2-1025-0-0-in-python\n"
   ]
  },
  {
   "cell_type": "code",
   "execution_count": null,
   "metadata": {},
   "outputs": [],
   "source": [
    "####################\n",
    "## Begin Activity ##\n",
    "####################\n",
    "\n",
    "print(\"Input a value e:\")\n",
    "e = int(input())\n",
    "\n",
    "\n",
    "exponent = pow(2,e)\n",
    "mantissa = 1\n",
    "fnum = exponent * mantissa\n",
    "\n",
    "print(\"fnum = 2^{\"+ str(e)+ \"} x (1 + 2^{-\"+str(i)+\"})\")\n",
    "print(\"fnum = \" + str(fnum))\n",
    "\n",
    "##################\n",
    "## End Activity ##\n",
    "##################"
   ]
  },
  {
   "cell_type": "markdown",
   "metadata": {},
   "source": [
    "### Hands On Activity\n",
    "An interesting limitation of floating point numbers is that there is no associativity of numbers. I.e. \n",
    "\n",
    "$((a+b)+c) = (a+(b+c))$ is not true for all values $a,b$ and $c$\n",
    "\n",
    "Looking at the following snippet explain why we do not have associativity with floating point numbers."
   ]
  },
  {
   "cell_type": "code",
   "execution_count": null,
   "metadata": {},
   "outputs": [],
   "source": [
    "####################\n",
    "## Begin Activity ##\n",
    "####################\n",
    "\n",
    "alpha = pow(2,-40)\n",
    "beta  = pow(2,13)\n",
    "print(\"alpha = \" + str(alpha))\n",
    "print(\"beta  = \" + str(beta))\n",
    "\n",
    "y0 = ((beta + alpha) + alpha)\n",
    "y1 = (beta + (alpha + alpha))\n",
    "\n",
    "print(\"y0 = ((beta + alpha) + alpha) = \" + str(y0) )\n",
    "print(\"y1 = (beta + (alpha + alpha)) = \" + str(y1) )\n",
    "\n",
    "##################\n",
    "## End Activity ##\n",
    "##################"
   ]
  },
  {
   "cell_type": "markdown",
   "metadata": {},
   "source": [
    "### Hands On Activity\n",
    "Continuing from the previous activity\n",
    "1. find the largest $e<0$ such that ((1+2^e)+2^e) != (1+(2^e+2^e))\n",
    "- why is that the value for $e$?"
   ]
  },
  {
   "cell_type": "code",
   "execution_count": null,
   "metadata": {},
   "outputs": [],
   "source": [
    "####################\n",
    "## Begin Activity ##\n",
    "####################\n",
    "\n",
    "e = int(input())\n",
    "f = pow(2,e)\n",
    "\n",
    "y0 = ((1 + f) + f)\n",
    "y1 = (1 + (f + f))\n",
    "\n",
    "print(\"y0 = ((1 + f) + f) = \" + str(y0) )\n",
    "print(\"y1 = (1 + (f + f)) = \" + str(y1) )\n",
    "\n",
    "##################\n",
    "## End Activity ##\n",
    "##################"
   ]
  },
  {
   "cell_type": "markdown",
   "metadata": {},
   "source": [
    "## Expressions\n",
    "\n",
    "We have already seen a few *expressions* using mathematical operators and now we will expand on that. For example suppose we want to compute $x=(3+4)*2$:"
   ]
  },
  {
   "cell_type": "code",
   "execution_count": null,
   "metadata": {},
   "outputs": [],
   "source": [
    "x=(3+4)*2\n",
    "print(x)"
   ]
  },
  {
   "cell_type": "markdown",
   "metadata": {},
   "source": [
    "Python provides us with a lot of nice builtin operators for *Addition*, *Subtraction*, *Multiplication*, *Division* and *Exponentials*. The following code excerpt contains expressions for:\n",
    "\n",
    "$r=a+b$\n",
    "\n",
    "$r=a-b$\n",
    "\n",
    "$r=ab$\n",
    "\n",
    "$r=a/b$\n",
    "\n",
    "$r=a^{b}$"
   ]
  },
  {
   "cell_type": "code",
   "execution_count": null,
   "metadata": {},
   "outputs": [],
   "source": [
    "a = 12\n",
    "b = 3\n",
    "# Addition\n",
    "r = a+b\n",
    "print(\"a + b = \"+str(r))\n",
    "\n",
    "# Subtraction\n",
    "r = a-b\n",
    "print(\"a - b = \"+str(r))\n",
    "\n",
    "# Multiplication\n",
    "r=a*b\n",
    "print(\"a * b = \"+str(r))\n",
    "\n",
    "# Division\n",
    "r=a/b\n",
    "print(\"a / b = \"+str(r))\n",
    "\n",
    "# Exponents\n",
    "r=a**b\n",
    "print(\"a^{b} = \"+str(r))\n",
    "r=pow(a,b)\n",
    "print(\"pow(a,b) = \"+str(r))"
   ]
  },
  {
   "cell_type": "markdown",
   "metadata": {},
   "source": [
    "We can perform some more sophisticated operations such as the trancendals, however we need to *import* the numpy module to gives us that functionality: "
   ]
  },
  {
   "cell_type": "code",
   "execution_count": null,
   "metadata": {},
   "outputs": [],
   "source": [
    "# We need to bring in the functionality in the numpy module\n",
    "import numpy as np\n",
    "\n",
    "a = 12\n",
    "b = 3\n",
    "\n",
    "# square root\n",
    "r = np.sqrt(2)\n",
    "print(\"sqrt(a) = \"+str(r))\n",
    "\n",
    "# sine\n",
    "r = np.sin(np.pi*a)\n",
    "print(\"sin(pi*a) = \"+str(r))\n",
    "\n",
    "# cosine\n",
    "r = np.cos(np.pi*a)\n",
    "print(\"cos(pi*a) = \"+str(r))\n",
    "\n",
    "# e\n",
    "r = np.exp(a)\n",
    "print(\"exp(a) = \"+str(r))"
   ]
  },
  {
   "cell_type": "markdown",
   "metadata": {},
   "source": [
    "### Functions\n",
    "\n",
    "We are not restricted to only using Python's builtin functions, we can define our own functions such as:\n",
    "\n",
    "$f(a,b,c) = a*b+c $\n",
    "\n",
    "as follows:"
   ]
  },
  {
   "cell_type": "code",
   "execution_count": null,
   "metadata": {},
   "outputs": [],
   "source": [
    "def f(a,b,c):\n",
    "    return a*b+c"
   ]
  },
  {
   "cell_type": "markdown",
   "metadata": {},
   "source": [
    "### Hands On Activity\n",
    "The quadratic formula provides us with a nice mechanism for determining the zeros $x_0,x_1$ for $x$ for a quadratic equation of the form $ax^2 + bx + c$. Where:\n",
    "\n",
    "$(x-x_0)(x-x_1) = ax^2 + bx + c$\n",
    "\n",
    "1. Implement a function \"quadratic_plus\" that takes $a,b$ and $c$ as inputs and returns the value for $x_0 =\\frac{b + \\sqrt{b^2 - 4ac}}{2a}$\n",
    "- Implement a function \"quadratic_minus\" that takes $a,b$ and $c$ as inputs and returns the value for $x_1 =\\frac{b - \\sqrt{b^2 - 4ac}}{2a}$"
   ]
  },
  {
   "cell_type": "code",
   "execution_count": null,
   "metadata": {},
   "outputs": [],
   "source": [
    "#################### \n",
    "## Begin Activity ##\n",
    "####################\n",
    "import numpy as np\n",
    "\n",
    "def quadratic_plus(a,b,c):\n",
    "    ########################\n",
    "    ## Start Missing Code ##\n",
    "    ########################\n",
    "\n",
    "    return 0 # TODO: fill this in\n",
    "\n",
    "    ########################\n",
    "    ### End Missing Code ###\n",
    "    ########################\n",
    "    \n",
    "def quadratic_minus(a,b,c):\n",
    "    ########################\n",
    "    ## Start Missing Code ##\n",
    "    ########################\n",
    "\n",
    "    return # TODO: fill this in\n",
    "\n",
    "    ########################\n",
    "    ### End Missing Code ###\n",
    "    ########################\n",
    "\n",
    "\n",
    "print(\"Input a:\")\n",
    "a = float(input())\n",
    "print(\"Input b:\")\n",
    "b = float(input())\n",
    "print(\"Input c:\")\n",
    "c = float(input())\n",
    "\n",
    "print(\"(x - x_0)(x - x_1) = \"+str(a)+\"x^2 + \"+str(b)+\"x + \" + str(c))\n",
    "\n",
    "x0 = quadratic_plus(a,b,c)\n",
    "x1 = quadratic_minus(a,b,c)\n",
    "\n",
    "print(\"Solution: x0 = \" + str(x0) + \"; x1 = \" + str(x1))\n",
    "##################\n",
    "## End Activity ##\n",
    "##################"
   ]
  },
  {
   "cell_type": "markdown",
   "metadata": {},
   "source": [
    "### Hands On Activity\n",
    "An important issue regarding computation using *floating point* numbers is the issue of catastrophic cancellation. Essentially, this means that two small numbers used in a computation are subtracted from each other resulting in a zero where there should be a non-zero. I.e. $(a+\\epsilon) - a$ becomes $0$. This zero value is then propagated through the computation leading to an inaccurate final result. Sometimes we can rearrange our computation to elimate this type of cancellation. \n",
    "\n",
    "In the following code snippet:\n",
    "\n",
    "1. Copy your code for the \"quadratic_plus\" and \"quadratic_minus\" into the snippet\n",
    "- Run the code for the prescribed values of $a,b$ and $c$\n",
    "- Describe the original results for $x_0$ and $x_1$ that were computed using your functions. What's going wrong here?\n",
    "- Look at the code for \"quadratic minus alternate\" how is this different from your code? \n",
    "- Does this fix the issue of the original code? Why or why not?\n"
   ]
  },
  {
   "cell_type": "code",
   "execution_count": null,
   "metadata": {},
   "outputs": [],
   "source": [
    "#################### \n",
    "## Begin Activity ##\n",
    "####################\n",
    "import numpy as np\n",
    "\n",
    "def quadratic_plus(a,b,c):\n",
    "    ########################\n",
    "    ## Start Missing Code ##\n",
    "    ########################\n",
    "\n",
    "    return 0 # TODO: fill this in\n",
    "\n",
    "    ########################\n",
    "    ### End Missing Code ###\n",
    "    ########################\n",
    "    \n",
    "def quadratic_minus(a,b,c):\n",
    "    ########################\n",
    "    ## Start Missing Code ##\n",
    "    ########################\n",
    "\n",
    "    return # TODO: fill this in\n",
    "\n",
    "    ########################\n",
    "    ### End Missing Code ###\n",
    "    ########################\n",
    "\n",
    "a = 0.00001\n",
    "b = 10000\n",
    "c = 0.00001\n",
    "\n",
    "x0 = quadratic_plus(a,b,c)\n",
    "x1 = quadratic_minus(a,b,c)\n",
    "\n",
    "\n",
    "print(\"Original:    x0 = \" + str(x0) + \"; x1 = \" + str(x1))\n",
    "\n",
    "def quadratic_minus_alternate(a,b,c):\n",
    "    x0 = quadratic_plus(a,b,c)\n",
    "    x1 = c/(x0*a)\n",
    "    return x1\n",
    "    \n",
    "\n",
    "x1_alt = quadratic_minus_alternate(a,b,c)\n",
    "\n",
    "\n",
    "print(\"Alternative: x0 = \" + str(x0) + \"; x1 = \" + str(x1_alt))\n",
    "##################\n",
    "## End Activity ##\n",
    "##################"
   ]
  },
  {
   "cell_type": "markdown",
   "metadata": {},
   "source": [
    "## Submitting Problem to the Online Judge\n",
    "\n",
    "Practice and confidence are the two most factors for becoming an adept programmer. To that end we will be using an Online Judge to submit solutions to competition problems:\n",
    "\n",
    "The online judge is located at https://www.urionlinejudge.com.br/judge/en/login?redirect=%2Fen\n",
    "\n",
    "1. In order to use it the students need to create an account.\n",
    "\n",
    "- When they log in they can go to the \"Problems\" tab at the top right\n",
    "\n",
    "- select a problem category. for example \"Beginner\"\n",
    "\n",
    "- in the problem category select a problem. like \"extremely basic\"\n",
    "\n",
    "- to submit  a solution,  go to the left side of the page and click submit\n",
    "\n",
    "- this will take you to the submission page for the problem.\n",
    "\n",
    "- for language select \"Python 3\"\n",
    "\n",
    "-  Write your solution in the box labelled \"source code\"\n",
    "\n",
    "- Hit Send\n",
    "\n",
    "- To check the status of your submission click the \"Submissions\" tab at the top right and you should see the results of your code.\n",
    "\n",
    "\n",
    "If you want an online developer to prototype your code I suggest looking at the following:\n",
    "\n",
    "https://repl.it/languages/python3\n",
    "https://www.onlinegdb.com/online_python_compiler\n",
    "\n",
    "If you want to develop locally on your own computer I suggest installing Anaconda:\n",
    "https://www.anaconda.com/distribution/\n",
    "\n",
    "For reference check out the official Python tutorial\n",
    "https://docs.python.org/3/tutorial/"
   ]
  },
  {
   "cell_type": "markdown",
   "metadata": {},
   "source": [
    "### Online Judge Problems\n",
    "\n",
    "Complete the following problems and provide a pdf of your submission results.\n",
    "\n",
    "1. https://www.urionlinejudge.com.br/judge/en/problems/view/1001\n",
    "- https://www.urionlinejudge.com.br/judge/en/problems/view/1002\n",
    "- https://www.urionlinejudge.com.br/judge/en/problems/view/1003\n",
    "- https://www.urionlinejudge.com.br/judge/en/problems/view/1005\n",
    "- https://www.urionlinejudge.com.br/judge/en/problems/view/1011\n",
    "- https://www.urionlinejudge.com.br/judge/en/problems/view/1012 (hint: look up string split function)\n"
   ]
  }
 ],
 "metadata": {
  "kernelspec": {
   "display_name": "Python 3",
   "language": "python",
   "name": "python3"
  },
  "language_info": {
   "codemirror_mode": {
    "name": "ipython",
    "version": 3
   },
   "file_extension": ".py",
   "mimetype": "text/x-python",
   "name": "python",
   "nbconvert_exporter": "python",
   "pygments_lexer": "ipython3",
   "version": "3.7.3"
  }
 },
 "nbformat": 4,
 "nbformat_minor": 2
}
